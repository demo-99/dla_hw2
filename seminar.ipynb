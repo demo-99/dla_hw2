{
  "nbformat": 4,
  "nbformat_minor": 0,
  "metadata": {
    "accelerator": "GPU",
    "colab": {
      "name": "seminar.ipynb",
      "provenance": [],
      "collapsed_sections": []
    },
    "kernelspec": {
      "display_name": "Python 3 (ipykernel)",
      "language": "python",
      "name": "python3"
    },
    "language_info": {
      "codemirror_mode": {
        "name": "ipython",
        "version": 3
      },
      "file_extension": ".py",
      "mimetype": "text/x-python",
      "name": "python",
      "nbconvert_exporter": "python",
      "pygments_lexer": "ipython3",
      "version": "3.8.12"
    }
  },
  "cells": [
    {
      "cell_type": "markdown",
      "metadata": {
        "id": "_lhrn5O-qUYZ"
      },
      "source": [
        "# Import and misc"
      ]
    },
    {
      "cell_type": "code",
      "metadata": {
        "colab": {
          "base_uri": "https://localhost:8080/"
        },
        "id": "meO-Mp9jiAFC",
        "outputId": "8eee8814-7609-4bc1-aaf0-d8ebe55e034d"
      },
      "source": [
        "!pip install torch==1.10.0\n",
        "!pip install torchaudio==0.10.0\n",
        "!pip install thop"
      ],
      "execution_count": 1,
      "outputs": [
        {
          "output_type": "stream",
          "name": "stdout",
          "text": [
            "Requirement already satisfied: torch==1.10.0 in /usr/local/lib/python3.7/dist-packages (1.10.0+cu111)\n",
            "Requirement already satisfied: typing-extensions in /usr/local/lib/python3.7/dist-packages (from torch==1.10.0) (3.10.0.2)\n",
            "Requirement already satisfied: torchaudio==0.10.0 in /usr/local/lib/python3.7/dist-packages (0.10.0+cu111)\n",
            "Requirement already satisfied: torch==1.10.0 in /usr/local/lib/python3.7/dist-packages (from torchaudio==0.10.0) (1.10.0+cu111)\n",
            "Requirement already satisfied: typing-extensions in /usr/local/lib/python3.7/dist-packages (from torch==1.10.0->torchaudio==0.10.0) (3.10.0.2)\n",
            "Collecting thop\n",
            "  Downloading thop-0.0.31.post2005241907-py3-none-any.whl (8.7 kB)\n",
            "Requirement already satisfied: torch>=1.0.0 in /usr/local/lib/python3.7/dist-packages (from thop) (1.10.0+cu111)\n",
            "Requirement already satisfied: typing-extensions in /usr/local/lib/python3.7/dist-packages (from torch>=1.0.0->thop) (3.10.0.2)\n",
            "Installing collected packages: thop\n",
            "Successfully installed thop-0.0.31.post2005241907\n"
          ]
        }
      ]
    },
    {
      "cell_type": "code",
      "metadata": {
        "id": "Us4M15XnnX0S"
      },
      "source": [
        "# Import PyDrive and associated libraries.\n",
        "# This only needs to be done once in a notebook.\n",
        "from pydrive.auth import GoogleAuth\n",
        "from pydrive.drive import GoogleDrive\n",
        "from google.colab import auth\n",
        "from oauth2client.client import GoogleCredentials\n",
        "\n",
        "# Authenticate and create the PyDrive client.\n",
        "# This only needs to be done once in a notebook.\n",
        "auth.authenticate_user()\n",
        "gauth = GoogleAuth()\n",
        "gauth.credentials = GoogleCredentials.get_application_default()\n",
        "drive = GoogleDrive(gauth)"
      ],
      "execution_count": 2,
      "outputs": []
    },
    {
      "cell_type": "code",
      "metadata": {
        "id": "bbUpoArCqUYa"
      },
      "source": [
        "from typing import Tuple, Union, List, Callable, Optional\n",
        "from tqdm import tqdm\n",
        "from itertools import islice\n",
        "import pathlib\n",
        "import dataclasses\n",
        "\n",
        "import numpy as np\n",
        "import pandas as pd\n",
        "\n",
        "import torch\n",
        "import torch.nn.functional as F\n",
        "from torch import nn\n",
        "from torch import distributions\n",
        "from torch.utils.data import DataLoader, Dataset, WeightedRandomSampler\n",
        "from torch.nn.utils.rnn import pad_sequence\n",
        "\n",
        "import torchaudio\n",
        "from IPython import display as display_\n",
        "\n",
        "\n",
        "torch.manual_seed(42)\n",
        "if torch.cuda.is_available():\n",
        "    torch.cuda.manual_seed_all(42)"
      ],
      "execution_count": 3,
      "outputs": []
    },
    {
      "cell_type": "markdown",
      "metadata": {
        "id": "812GwLfqqUYf"
      },
      "source": [
        "# Task"
      ]
    },
    {
      "cell_type": "markdown",
      "metadata": {
        "id": "i1DuQIyRqUYf"
      },
      "source": [
        "In this notebook we will implement a model for finding a keyword in a stream.\n",
        "\n",
        "We will implement the version with CRNN because it is easy and improves the model. \n",
        "(from https://www.dropbox.com/s/22ah2ba7dug6pzw/KWS_Attention.pdf)"
      ]
    },
    {
      "cell_type": "code",
      "metadata": {
        "id": "8PdhApeEh9pH"
      },
      "source": [
        "@dataclasses.dataclass\n",
        "class TaskConfig:\n",
        "    keyword: str = 'sheila'  # We will use 1 key word -- 'sheila'\n",
        "    batch_size: int = 256\n",
        "    learning_rate: float = 3e-4\n",
        "    weight_decay: float = 1e-5\n",
        "    num_epochs: int = 20\n",
        "    n_mels: int = 40\n",
        "    cnn_out_channels: int = 8\n",
        "    kernel_size: Tuple[int, int] = (5, 20)\n",
        "    stride: Tuple[int, int] = (2, 8)\n",
        "    hidden_size: int = 64\n",
        "    gru_num_layers: int = 2\n",
        "    bidirectional: bool = False\n",
        "    num_classes: int = 2\n",
        "    sample_rate: int = 16000\n",
        "    device: torch.device = torch.device(\n",
        "        'cuda:0' if torch.cuda.is_available() else 'cpu')"
      ],
      "execution_count": 4,
      "outputs": []
    },
    {
      "cell_type": "markdown",
      "metadata": {
        "id": "KA1gPmE1h9pI"
      },
      "source": [
        "# Data"
      ]
    },
    {
      "cell_type": "code",
      "metadata": {
        "colab": {
          "base_uri": "https://localhost:8080/"
        },
        "id": "Y2N8zcx9MF1X",
        "outputId": "909b333a-0af0-4335-ff37-1c144cc2199e"
      },
      "source": [
        "!wget http://download.tensorflow.org/data/speech_commands_v0.01.tar.gz -O speech_commands_v0.01.tar.gz\n",
        "!mkdir speech_commands && tar -C speech_commands -xvzf speech_commands_v0.01.tar.gz 1> log"
      ],
      "execution_count": 5,
      "outputs": [
        {
          "output_type": "stream",
          "name": "stdout",
          "text": [
            "--2021-11-22 12:25:15--  http://download.tensorflow.org/data/speech_commands_v0.01.tar.gz\n",
            "Resolving download.tensorflow.org (download.tensorflow.org)... 142.250.153.128, 2a00:1450:4013:c16::80\n",
            "Connecting to download.tensorflow.org (download.tensorflow.org)|142.250.153.128|:80... connected.\n",
            "HTTP request sent, awaiting response... 200 OK\n",
            "Length: 1489096277 (1.4G) [application/gzip]\n",
            "Saving to: ‘speech_commands_v0.01.tar.gz’\n",
            "\n",
            "speech_commands_v0. 100%[===================>]   1.39G   270MB/s    in 6.2s    \n",
            "\n",
            "2021-11-22 12:25:22 (229 MB/s) - ‘speech_commands_v0.01.tar.gz’ saved [1489096277/1489096277]\n",
            "\n"
          ]
        }
      ]
    },
    {
      "cell_type": "code",
      "metadata": {
        "id": "12wBTK0mNUsG"
      },
      "source": [
        "class SpeechCommandDataset(Dataset):\n",
        "\n",
        "    def __init__(\n",
        "        self,\n",
        "        transform: Optional[Callable] = None,\n",
        "        path2dir: str = None,\n",
        "        keywords: Union[str, List[str]] = None,\n",
        "        csv: Optional[pd.DataFrame] = None\n",
        "    ):        \n",
        "        self.transform = transform\n",
        "\n",
        "        if csv is None:\n",
        "            path2dir = pathlib.Path(path2dir)\n",
        "            keywords = keywords if isinstance(keywords, list) else [keywords]\n",
        "            \n",
        "            all_keywords = [\n",
        "                p.stem for p in path2dir.glob('*')\n",
        "                if p.is_dir() and not p.stem.startswith('_')\n",
        "            ]\n",
        "\n",
        "            triplets = []\n",
        "            for keyword in all_keywords:\n",
        "                paths = (path2dir / keyword).rglob('*.wav')\n",
        "                if keyword in keywords:\n",
        "                    for path2wav in paths:\n",
        "                        triplets.append((path2wav.as_posix(), keyword, 1))\n",
        "                else:\n",
        "                    for path2wav in paths:\n",
        "                        triplets.append((path2wav.as_posix(), keyword, 0))\n",
        "            \n",
        "            self.csv = pd.DataFrame(\n",
        "                triplets,\n",
        "                columns=['path', 'keyword', 'label']\n",
        "            )\n",
        "\n",
        "        else:\n",
        "            self.csv = csv\n",
        "    \n",
        "    def __getitem__(self, index: int):\n",
        "        instance = self.csv.iloc[index]\n",
        "\n",
        "        path2wav = instance['path']\n",
        "        wav, sr = torchaudio.load(path2wav)\n",
        "        wav = wav.sum(dim=0)\n",
        "        \n",
        "        if self.transform:\n",
        "            wav = self.transform(wav)\n",
        "\n",
        "        return {\n",
        "            'wav': wav,\n",
        "            'keywors': instance['keyword'],\n",
        "            'label': instance['label']\n",
        "        }\n",
        "\n",
        "    def __len__(self):\n",
        "        return len(self.csv)"
      ],
      "execution_count": 6,
      "outputs": []
    },
    {
      "cell_type": "code",
      "metadata": {
        "id": "-1rVkT81Pk90"
      },
      "source": [
        "dataset = SpeechCommandDataset(\n",
        "    path2dir='speech_commands', keywords=TaskConfig.keyword\n",
        ")"
      ],
      "execution_count": 7,
      "outputs": []
    },
    {
      "cell_type": "code",
      "metadata": {
        "colab": {
          "base_uri": "https://localhost:8080/",
          "height": 198
        },
        "id": "DFwhAXdfQLIA",
        "outputId": "c5cf2c53-a5db-40ec-8857-dcd96adf7f6e"
      },
      "source": [
        "dataset.csv.sample(5)"
      ],
      "execution_count": 8,
      "outputs": [
        {
          "output_type": "execute_result",
          "data": {
            "text/html": [
              "<div>\n",
              "<style scoped>\n",
              "    .dataframe tbody tr th:only-of-type {\n",
              "        vertical-align: middle;\n",
              "    }\n",
              "\n",
              "    .dataframe tbody tr th {\n",
              "        vertical-align: top;\n",
              "    }\n",
              "\n",
              "    .dataframe thead th {\n",
              "        text-align: right;\n",
              "    }\n",
              "</style>\n",
              "<table border=\"1\" class=\"dataframe\">\n",
              "  <thead>\n",
              "    <tr style=\"text-align: right;\">\n",
              "      <th></th>\n",
              "      <th>path</th>\n",
              "      <th>keyword</th>\n",
              "      <th>label</th>\n",
              "    </tr>\n",
              "  </thead>\n",
              "  <tbody>\n",
              "    <tr>\n",
              "      <th>51845</th>\n",
              "      <td>speech_commands/sheila/789e4ee7_nohash_1.wav</td>\n",
              "      <td>sheila</td>\n",
              "      <td>1</td>\n",
              "    </tr>\n",
              "    <tr>\n",
              "      <th>58843</th>\n",
              "      <td>speech_commands/down/ca58a8c6_nohash_0.wav</td>\n",
              "      <td>down</td>\n",
              "      <td>0</td>\n",
              "    </tr>\n",
              "    <tr>\n",
              "      <th>35603</th>\n",
              "      <td>speech_commands/two/8442ea62_nohash_0.wav</td>\n",
              "      <td>two</td>\n",
              "      <td>0</td>\n",
              "    </tr>\n",
              "    <tr>\n",
              "      <th>28167</th>\n",
              "      <td>speech_commands/six/78884794_nohash_0.wav</td>\n",
              "      <td>six</td>\n",
              "      <td>0</td>\n",
              "    </tr>\n",
              "    <tr>\n",
              "      <th>51874</th>\n",
              "      <td>speech_commands/sheila/cb164eea_nohash_0.wav</td>\n",
              "      <td>sheila</td>\n",
              "      <td>1</td>\n",
              "    </tr>\n",
              "  </tbody>\n",
              "</table>\n",
              "</div>"
            ],
            "text/plain": [
              "                                               path keyword  label\n",
              "51845  speech_commands/sheila/789e4ee7_nohash_1.wav  sheila      1\n",
              "58843    speech_commands/down/ca58a8c6_nohash_0.wav    down      0\n",
              "35603     speech_commands/two/8442ea62_nohash_0.wav     two      0\n",
              "28167     speech_commands/six/78884794_nohash_0.wav     six      0\n",
              "51874  speech_commands/sheila/cb164eea_nohash_0.wav  sheila      1"
            ]
          },
          "metadata": {},
          "execution_count": 8
        }
      ]
    },
    {
      "cell_type": "markdown",
      "metadata": {
        "id": "LUxfDJw1qUYi"
      },
      "source": [
        "### Augmentations"
      ]
    },
    {
      "cell_type": "code",
      "metadata": {
        "id": "dkmkxPWQqUYe"
      },
      "source": [
        "class AugsCreation:\n",
        "\n",
        "    def __init__(self):\n",
        "        self.background_noises = [\n",
        "            'speech_commands/_background_noise_/white_noise.wav',\n",
        "            'speech_commands/_background_noise_/dude_miaowing.wav',\n",
        "            'speech_commands/_background_noise_/doing_the_dishes.wav',\n",
        "            'speech_commands/_background_noise_/exercise_bike.wav',\n",
        "            'speech_commands/_background_noise_/pink_noise.wav',\n",
        "            'speech_commands/_background_noise_/running_tap.wav'\n",
        "        ]\n",
        "\n",
        "        self.noises = [\n",
        "            torchaudio.load(p)[0].squeeze()\n",
        "            for p in self.background_noises\n",
        "        ]\n",
        "\n",
        "    def add_rand_noise(self, audio):\n",
        "\n",
        "        # randomly choose noise\n",
        "        noise_num = torch.randint(low=0, high=len(\n",
        "            self.background_noises), size=(1,)).item()\n",
        "        noise = self.noises[noise_num]\n",
        "\n",
        "        noise_level = torch.Tensor([1])  # [0, 40]\n",
        "\n",
        "        noise_energy = torch.norm(noise)\n",
        "        audio_energy = torch.norm(audio)\n",
        "        alpha = (audio_energy / noise_energy) * \\\n",
        "            torch.pow(10, -noise_level / 20)\n",
        "\n",
        "        start = torch.randint(\n",
        "            low=0,\n",
        "            high=max(int(noise.size(0) - audio.size(0) - 1), 1),\n",
        "            size=(1,)\n",
        "        ).item()\n",
        "        noise_sample = noise[start: start + audio.size(0)]\n",
        "\n",
        "        audio_new = audio + alpha * noise_sample\n",
        "        audio_new.clamp_(-1, 1)\n",
        "        return audio_new\n",
        "\n",
        "    def __call__(self, wav):\n",
        "        aug_num = torch.randint(low=0, high=4, size=(1,)).item()   # choose 1 random aug from augs\n",
        "        augs = [\n",
        "            lambda x: x,\n",
        "            lambda x: (x + distributions.Normal(0, 0.01).sample(x.size())).clamp_(-1, 1),\n",
        "            lambda x: torchaudio.transforms.Vol(.25)(x),\n",
        "            lambda x: self.add_rand_noise(x)\n",
        "        ]\n",
        "\n",
        "        return augs[aug_num](wav)"
      ],
      "execution_count": 9,
      "outputs": []
    },
    {
      "cell_type": "code",
      "metadata": {
        "id": "ClWThxyYh9pM"
      },
      "source": [
        "indexes = torch.randperm(len(dataset))\n",
        "train_indexes = indexes[:int(len(dataset) * 0.8)]\n",
        "val_indexes = indexes[int(len(dataset) * 0.8):]\n",
        "\n",
        "train_df = dataset.csv.iloc[train_indexes].reset_index(drop=True)\n",
        "val_df = dataset.csv.iloc[val_indexes].reset_index(drop=True)"
      ],
      "execution_count": 10,
      "outputs": []
    },
    {
      "cell_type": "code",
      "metadata": {
        "id": "PDPLht5fqUYe"
      },
      "source": [
        "# Sample is a dict of utt, word and label\n",
        "train_set = SpeechCommandDataset(csv=train_df, transform=AugsCreation())\n",
        "val_set = SpeechCommandDataset(csv=val_df)"
      ],
      "execution_count": 11,
      "outputs": []
    },
    {
      "cell_type": "code",
      "metadata": {
        "id": "mmrJd8WIhkLP"
      },
      "source": [
        ""
      ],
      "execution_count": 11,
      "outputs": []
    },
    {
      "cell_type": "markdown",
      "metadata": {
        "id": "2vbPDqd6qUYj"
      },
      "source": [
        "### Sampler for oversampling:"
      ]
    },
    {
      "cell_type": "code",
      "metadata": {
        "id": "rfnjRKo2qUYj"
      },
      "source": [
        "# We should provide to WeightedRandomSampler _weight for every sample_; by default it is 1/len(target)\n",
        "\n",
        "def get_sampler(target):\n",
        "    class_sample_count = np.array(\n",
        "        [len(np.where(target == t)[0]) for t in np.unique(target)])   # for every class count it's number of occ.\n",
        "    weight = 1. / class_sample_count\n",
        "    samples_weight = np.array([weight[t] for t in target])\n",
        "    samples_weight = torch.from_numpy(samples_weight)\n",
        "    samples_weigth = samples_weight.float()\n",
        "    sampler = WeightedRandomSampler(samples_weight, len(samples_weight))\n",
        "    return sampler"
      ],
      "execution_count": 12,
      "outputs": []
    },
    {
      "cell_type": "code",
      "metadata": {
        "id": "UM8gLmHeqUYj"
      },
      "source": [
        "train_sampler = get_sampler(train_set.csv['label'].values)"
      ],
      "execution_count": 13,
      "outputs": []
    },
    {
      "cell_type": "code",
      "metadata": {
        "id": "lyBqbxp0h9pO"
      },
      "source": [
        "class Collator:\n",
        "    \n",
        "    def __call__(self, data):\n",
        "        wavs = []\n",
        "        labels = []    \n",
        "\n",
        "        for el in data:\n",
        "            wavs.append(el['wav'])\n",
        "            labels.append(el['label'])\n",
        "\n",
        "        # torch.nn.utils.rnn.pad_sequence takes list(Tensors) and returns padded (with 0.0) Tensor\n",
        "        wavs = pad_sequence(wavs, batch_first=True)    \n",
        "        labels = torch.Tensor(labels).long()\n",
        "        return wavs, labels"
      ],
      "execution_count": 14,
      "outputs": []
    },
    {
      "cell_type": "markdown",
      "metadata": {
        "id": "e8G9xPRVqUYk"
      },
      "source": [
        "###  Dataloaders"
      ]
    },
    {
      "cell_type": "code",
      "metadata": {
        "id": "6wGBMcQiqUYk"
      },
      "source": [
        "# Here we are obliged to use shuffle=False because of our sampler with randomness inside.\n",
        "\n",
        "train_loader = DataLoader(train_set, batch_size=TaskConfig.batch_size,\n",
        "                          shuffle=False, collate_fn=Collator(),\n",
        "                          sampler=train_sampler,\n",
        "                          num_workers=2, pin_memory=True)\n",
        "\n",
        "val_loader = DataLoader(val_set, batch_size=TaskConfig.batch_size,\n",
        "                        shuffle=False, collate_fn=Collator(),\n",
        "                        num_workers=2, pin_memory=True)"
      ],
      "execution_count": 15,
      "outputs": []
    },
    {
      "cell_type": "markdown",
      "metadata": {
        "id": "kTlsn6cpqUYk"
      },
      "source": [
        "### Creating MelSpecs on GPU for speeeed: "
      ]
    },
    {
      "cell_type": "code",
      "metadata": {
        "id": "pRXMt6it56fW"
      },
      "source": [
        "class LogMelspec:\n",
        "\n",
        "    def __init__(self, is_train, config):\n",
        "        # with augmentations\n",
        "        if is_train:\n",
        "            self.melspec = nn.Sequential(\n",
        "                torchaudio.transforms.MelSpectrogram(\n",
        "                    sample_rate=config.sample_rate,\n",
        "                    n_fft=400,\n",
        "                    win_length=400,\n",
        "                    hop_length=160,\n",
        "                    n_mels=config.n_mels\n",
        "                ),\n",
        "                torchaudio.transforms.FrequencyMasking(freq_mask_param=15),\n",
        "                torchaudio.transforms.TimeMasking(time_mask_param=35),\n",
        "            ).to(config.device)\n",
        "\n",
        "        # no augmentations\n",
        "        else:\n",
        "            self.melspec = torchaudio.transforms.MelSpectrogram(\n",
        "                sample_rate=config.sample_rate,\n",
        "                n_fft=400,\n",
        "                win_length=400,\n",
        "                hop_length=160,\n",
        "                n_mels=config.n_mels\n",
        "            ).to(config.device)\n",
        "\n",
        "    def __call__(self, batch):\n",
        "        # already on device\n",
        "        return torch.log(self.melspec(batch).clamp_(min=1e-9, max=1e9))"
      ],
      "execution_count": 16,
      "outputs": []
    },
    {
      "cell_type": "code",
      "metadata": {
        "id": "Pqkz4_gn8BiF"
      },
      "source": [
        "melspec_train = LogMelspec(is_train=True, config=TaskConfig)\n",
        "melspec_val = LogMelspec(is_train=False, config=TaskConfig)"
      ],
      "execution_count": 17,
      "outputs": []
    },
    {
      "cell_type": "markdown",
      "metadata": {
        "id": "zoAxmihY8yxr"
      },
      "source": [
        "### Quality measurment functions:"
      ]
    },
    {
      "cell_type": "code",
      "metadata": {
        "id": "euwD1UyuqUYk"
      },
      "source": [
        "# FA - true: 0, model: 1\n",
        "# FR - true: 1, model: 0\n",
        "\n",
        "def count_FA_FR(preds, labels):\n",
        "    FA = torch.sum(preds[labels == 0])\n",
        "    FR = torch.sum(labels[preds == 0])\n",
        "    \n",
        "    # torch.numel - returns total number of elements in tensor\n",
        "    return FA.item() / torch.numel(preds), FR.item() / torch.numel(preds)"
      ],
      "execution_count": 18,
      "outputs": []
    },
    {
      "cell_type": "code",
      "metadata": {
        "id": "YHBUrkT1qUYk"
      },
      "source": [
        "def get_au_fa_fr(probs, labels):\n",
        "    sorted_probs, _ = torch.sort(probs)\n",
        "    sorted_probs = torch.cat((torch.Tensor([0]), sorted_probs, torch.Tensor([1])))\n",
        "    labels = torch.cat(labels, dim=0)\n",
        "        \n",
        "    FAs, FRs = [], []\n",
        "    for prob in sorted_probs:\n",
        "        preds = (probs >= prob) * 1\n",
        "        FA, FR = count_FA_FR(preds, labels)        \n",
        "        FAs.append(FA)\n",
        "        FRs.append(FR)\n",
        "    # plt.plot(FAs, FRs)\n",
        "    # plt.show()\n",
        "\n",
        "    # ~ area under curve using trapezoidal rule\n",
        "    return -np.trapz(FRs, x=FAs)"
      ],
      "execution_count": 19,
      "outputs": []
    },
    {
      "cell_type": "markdown",
      "metadata": {
        "id": "CcEP5cEZqUYl"
      },
      "source": [
        "# Model"
      ]
    },
    {
      "cell_type": "code",
      "metadata": {
        "colab": {
          "base_uri": "https://localhost:8080/"
        },
        "id": "2cP_pFIsy5p2",
        "outputId": "9c8daec7-061b-409e-bfc2-5a552a923208"
      },
      "source": [
        "class Attention(nn.Module):\n",
        "\n",
        "    def __init__(self, hidden_size: int):\n",
        "        super().__init__()\n",
        "\n",
        "        self.energy = nn.Sequential(\n",
        "            nn.Linear(hidden_size, hidden_size),\n",
        "            nn.Tanh(),\n",
        "            nn.Linear(hidden_size, 1)\n",
        "        )\n",
        "    \n",
        "    def forward(self, input):\n",
        "        energy = self.energy(input)\n",
        "        alpha = torch.softmax(energy, dim=-2)\n",
        "        return (input * alpha).sum(dim=-2)\n",
        "\n",
        "class CRNN(nn.Module):\n",
        "\n",
        "    def __init__(self, config: TaskConfig):\n",
        "        super().__init__()\n",
        "        self.config = config\n",
        "\n",
        "        self.conv = nn.Sequential(\n",
        "            nn.Conv2d(\n",
        "                in_channels=1, out_channels=config.cnn_out_channels,\n",
        "                kernel_size=config.kernel_size, stride=config.stride\n",
        "            ),\n",
        "            nn.Flatten(start_dim=1, end_dim=2),\n",
        "        )\n",
        "\n",
        "        self.conv_out_frequency = (config.n_mels - config.kernel_size[0]) // \\\n",
        "            config.stride[0] + 1\n",
        "        \n",
        "        self.gru = nn.GRU(\n",
        "            input_size=self.conv_out_frequency * config.cnn_out_channels,\n",
        "            hidden_size=config.hidden_size,\n",
        "            num_layers=config.gru_num_layers,\n",
        "            dropout=0.1,\n",
        "            bidirectional=config.bidirectional,\n",
        "            batch_first=True\n",
        "        )\n",
        "\n",
        "        self.attention = Attention(config.hidden_size)\n",
        "        self.classifier = nn.Linear(config.hidden_size, config.num_classes)\n",
        "    \n",
        "    def forward(self, input):\n",
        "        input = input.unsqueeze(dim=1)\n",
        "        conv_output = self.conv(input).transpose(-1, -2)\n",
        "        gru_output, _ = self.gru(conv_output)\n",
        "        contex_vector = self.attention(gru_output)\n",
        "        output = self.classifier(contex_vector)\n",
        "        return output\n",
        "\n",
        "config = TaskConfig()\n",
        "model = CRNN(config)\n",
        "model"
      ],
      "execution_count": 20,
      "outputs": [
        {
          "output_type": "execute_result",
          "data": {
            "text/plain": [
              "CRNN(\n",
              "  (conv): Sequential(\n",
              "    (0): Conv2d(1, 8, kernel_size=(5, 20), stride=(2, 8))\n",
              "    (1): Flatten(start_dim=1, end_dim=2)\n",
              "  )\n",
              "  (gru): GRU(144, 64, num_layers=2, batch_first=True, dropout=0.1)\n",
              "  (attention): Attention(\n",
              "    (energy): Sequential(\n",
              "      (0): Linear(in_features=64, out_features=64, bias=True)\n",
              "      (1): Tanh()\n",
              "      (2): Linear(in_features=64, out_features=1, bias=True)\n",
              "    )\n",
              "  )\n",
              "  (classifier): Linear(in_features=64, out_features=2, bias=True)\n",
              ")"
            ]
          },
          "metadata": {},
          "execution_count": 20
        }
      ]
    },
    {
      "cell_type": "code",
      "metadata": {
        "id": "DmmSFvWaqUYn"
      },
      "source": [
        "def train_epoch(model, opt, loader, log_melspec, device):\n",
        "    model.train()\n",
        "    for i, (batch, labels) in tqdm(enumerate(loader), total=len(loader)):\n",
        "        batch, labels = batch.to(device), labels.to(device)\n",
        "        batch = log_melspec(batch)\n",
        "\n",
        "        opt.zero_grad()\n",
        "\n",
        "        # run model # with autocast():\n",
        "        logits = model(batch)\n",
        "        # we need probabilities so we use softmax & CE separately\n",
        "        probs = F.softmax(logits, dim=-1)\n",
        "        loss = F.cross_entropy(logits, labels)\n",
        "\n",
        "        loss.backward()\n",
        "        torch.nn.utils.clip_grad_norm_(model.parameters(), 5)\n",
        "\n",
        "        opt.step()\n",
        "\n",
        "        # logging\n",
        "        argmax_probs = torch.argmax(probs, dim=-1)\n",
        "        FA, FR = count_FA_FR(argmax_probs, labels)\n",
        "        acc = torch.sum(argmax_probs == labels) / torch.numel(argmax_probs)\n",
        "\n",
        "    return acc"
      ],
      "execution_count": 21,
      "outputs": []
    },
    {
      "cell_type": "code",
      "metadata": {
        "id": "UIeRbn4tqUYo"
      },
      "source": [
        "@torch.no_grad()\n",
        "def validation(model, loader, log_melspec, device):\n",
        "    model.eval()\n",
        "\n",
        "    val_losses, accs, FAs, FRs = [], [], [], []\n",
        "    all_probs, all_labels = [], []\n",
        "    for i, (batch, labels) in tqdm(enumerate(loader)):\n",
        "        batch, labels = batch.to(device), labels.to(device)\n",
        "        batch = log_melspec(batch)\n",
        "\n",
        "        output = model(batch)\n",
        "        # we need probabilities so we use softmax & CE separately\n",
        "        probs = F.softmax(output, dim=-1)\n",
        "        loss = F.cross_entropy(output, labels)\n",
        "\n",
        "        # logging\n",
        "        argmax_probs = torch.argmax(probs, dim=-1)\n",
        "        all_probs.append(probs[:, 1].cpu())\n",
        "        all_labels.append(labels.cpu())\n",
        "        val_losses.append(loss.item())\n",
        "        accs.append(\n",
        "            torch.sum(argmax_probs == labels).item() /  # ???\n",
        "            torch.numel(argmax_probs)\n",
        "        )\n",
        "        FA, FR = count_FA_FR(argmax_probs, labels)\n",
        "        FAs.append(FA)\n",
        "        FRs.append(FR)\n",
        "\n",
        "    # area under FA/FR curve for whole loader\n",
        "    au_fa_fr = get_au_fa_fr(torch.cat(all_probs, dim=0).cpu(), all_labels)\n",
        "    return au_fa_fr"
      ],
      "execution_count": 22,
      "outputs": []
    },
    {
      "cell_type": "code",
      "metadata": {
        "id": "PpyvKwp0k3IU"
      },
      "source": [
        "from collections import defaultdict\n",
        "from IPython.display import clear_output\n",
        "from matplotlib import pyplot as plt\n",
        "\n",
        "history = defaultdict(list)"
      ],
      "execution_count": 23,
      "outputs": []
    },
    {
      "cell_type": "markdown",
      "metadata": {
        "id": "GSNW-nZCJ4Q0"
      },
      "source": [
        "# Training"
      ]
    },
    {
      "cell_type": "code",
      "metadata": {
        "colab": {
          "base_uri": "https://localhost:8080/"
        },
        "id": "Q8sVpHNoocgA",
        "outputId": "533a90d4-3cee-4c87-ba36-be733ba952ed"
      },
      "source": [
        "config = TaskConfig()\n",
        "model = CRNN(config).to(config.device)\n",
        "\n",
        "print(model)\n",
        "\n",
        "opt = torch.optim.Adam(\n",
        "    model.parameters(),\n",
        "    lr=config.learning_rate,\n",
        "    weight_decay=config.weight_decay\n",
        ")"
      ],
      "execution_count": 24,
      "outputs": [
        {
          "output_type": "stream",
          "name": "stdout",
          "text": [
            "CRNN(\n",
            "  (conv): Sequential(\n",
            "    (0): Conv2d(1, 8, kernel_size=(5, 20), stride=(2, 8))\n",
            "    (1): Flatten(start_dim=1, end_dim=2)\n",
            "  )\n",
            "  (gru): GRU(144, 64, num_layers=2, batch_first=True, dropout=0.1)\n",
            "  (attention): Attention(\n",
            "    (energy): Sequential(\n",
            "      (0): Linear(in_features=64, out_features=64, bias=True)\n",
            "      (1): Tanh()\n",
            "      (2): Linear(in_features=64, out_features=1, bias=True)\n",
            "    )\n",
            "  )\n",
            "  (classifier): Linear(in_features=64, out_features=2, bias=True)\n",
            ")\n"
          ]
        }
      ]
    },
    {
      "cell_type": "code",
      "metadata": {
        "colab": {
          "base_uri": "https://localhost:8080/"
        },
        "id": "zedXm9dmINAE",
        "outputId": "48a0f6f7-2730-45ac-8ba0-2acb7f0749dc"
      },
      "source": [
        "sum([p.numel() for p in model.parameters()])"
      ],
      "execution_count": 25,
      "outputs": [
        {
          "output_type": "execute_result",
          "data": {
            "text/plain": [
              "70443"
            ]
          },
          "metadata": {},
          "execution_count": 25
        }
      ]
    },
    {
      "cell_type": "code",
      "metadata": {
        "colab": {
          "base_uri": "https://localhost:8080/",
          "height": 296
        },
        "id": "32oooz4lqUYo",
        "scrolled": false,
        "outputId": "017bc273-db0f-4fae-f23e-3430d666da8e"
      },
      "source": [
        "# TRAIN\n",
        "\n",
        "for n in range(TaskConfig.num_epochs):\n",
        "\n",
        "    train_epoch(model, opt, train_loader,\n",
        "                melspec_train, config.device)\n",
        "\n",
        "    au_fa_fr = validation(model, val_loader,\n",
        "                          melspec_val, config.device)\n",
        "    history['val_metric'].append(au_fa_fr)\n",
        "\n",
        "    clear_output()\n",
        "    plt.plot(history['val_metric'])\n",
        "    plt.ylabel('Metric')\n",
        "    plt.xlabel('Epoch')\n",
        "    plt.grid()\n",
        "    plt.show()\n",
        "\n",
        "    print('END OF EPOCH', n)"
      ],
      "execution_count": 26,
      "outputs": [
        {
          "output_type": "display_data",
          "data": {
            "image/png": "[encoded data removed]",
            "text/plain": [
              "<Figure size 432x288 with 1 Axes>"
            ]
          },
          "metadata": {
            "needs_background": "light"
          }
        },
        {
          "output_type": "stream",
          "name": "stdout",
          "text": [
            "END OF EPOCH 19\n"
          ]
        }
      ]
    },
    {
      "cell_type": "code",
      "metadata": {
        "colab": {
          "base_uri": "https://localhost:8080/"
        },
        "id": "WBkTUHZcVugz",
        "outputId": "7d9a3050-8d32-4bda-aae8-d8c75f252f76"
      },
      "source": [
        "history"
      ],
      "execution_count": 27,
      "outputs": [
        {
          "output_type": "execute_result",
          "data": {
            "text/plain": [
              "defaultdict(list,\n",
              "            {'val_metric': [0.0003666759611220242,\n",
              "              0.0003309661563965919,\n",
              "              0.00012791438240134412,\n",
              "              0.00012670893778995754,\n",
              "              9.121993232502667e-05,\n",
              "              8.501368284066007e-05,\n",
              "              5.1422357506525885e-05,\n",
              "              5.371389577767663e-05,\n",
              "              5.2615867022750236e-05,\n",
              "              5.04914200838709e-05,\n",
              "              4.501321140440116e-05,\n",
              "              3.9200820060388605e-05,\n",
              "              3.869357851599325e-05,\n",
              "              3.5399492251214065e-05,\n",
              "              3.718975652555058e-05,\n",
              "              3.037481718790957e-05,\n",
              "              3.471322427938506e-05,\n",
              "              2.8942605768440355e-05,\n",
              "              3.2582809792924605e-05,\n",
              "              4.1498325879120457e-05]})"
            ]
          },
          "metadata": {},
          "execution_count": 27
        }
      ]
    },
    {
      "cell_type": "markdown",
      "metadata": {
        "id": "QRZB9KXyVvfa"
      },
      "source": [
        "### Reproduce"
      ]
    },
    {
      "cell_type": "code",
      "metadata": {
        "colab": {
          "base_uri": "https://localhost:8080/"
        },
        "id": "t55FUkOGh9pT",
        "outputId": "5fc6fde7-3a50-4bc9-db9c-a720c96c75ed"
      },
      "source": [
        "history = defaultdict(list)\n",
        "config = TaskConfig()\n",
        "model = CRNN(config).to(config.device)\n",
        "\n",
        "print(model)\n",
        "\n",
        "opt = torch.optim.Adam(\n",
        "    model.parameters(),\n",
        "    lr=config.learning_rate,\n",
        "    weight_decay=config.weight_decay\n",
        ")"
      ],
      "execution_count": 28,
      "outputs": [
        {
          "output_type": "stream",
          "name": "stdout",
          "text": [
            "CRNN(\n",
            "  (conv): Sequential(\n",
            "    (0): Conv2d(1, 8, kernel_size=(5, 20), stride=(2, 8))\n",
            "    (1): Flatten(start_dim=1, end_dim=2)\n",
            "  )\n",
            "  (gru): GRU(144, 64, num_layers=2, batch_first=True, dropout=0.1)\n",
            "  (attention): Attention(\n",
            "    (energy): Sequential(\n",
            "      (0): Linear(in_features=64, out_features=64, bias=True)\n",
            "      (1): Tanh()\n",
            "      (2): Linear(in_features=64, out_features=1, bias=True)\n",
            "    )\n",
            "  )\n",
            "  (classifier): Linear(in_features=64, out_features=2, bias=True)\n",
            ")\n"
          ]
        }
      ]
    },
    {
      "cell_type": "code",
      "metadata": {
        "colab": {
          "base_uri": "https://localhost:8080/",
          "height": 296
        },
        "id": "RqGOlKZbVt6j",
        "outputId": "5375d974-7389-4298-9a58-bec3858e15b9"
      },
      "source": [
        "# TRAIN\n",
        "\n",
        "for n in range(TaskConfig.num_epochs):\n",
        "\n",
        "    train_epoch(model, opt, train_loader,\n",
        "                melspec_train, config.device)\n",
        "\n",
        "    au_fa_fr = validation(model, val_loader,\n",
        "                          melspec_val, config.device)\n",
        "    history['val_metric'].append(au_fa_fr)\n",
        "\n",
        "    clear_output()\n",
        "    plt.plot(history['val_metric'])\n",
        "    plt.ylabel('Metric')\n",
        "    plt.xlabel('Epoch')\n",
        "    plt.grid()\n",
        "    plt.show()\n",
        "\n",
        "    print('END OF EPOCH', n)"
      ],
      "execution_count": 29,
      "outputs": [
        {
          "output_type": "display_data",
          "data": {
            "image/png": "[encoded data removed]",
            "text/plain": [
              "<Figure size 432x288 with 1 Axes>"
            ]
          },
          "metadata": {
            "needs_background": "light"
          }
        },
        {
          "output_type": "stream",
          "name": "stdout",
          "text": [
            "END OF EPOCH 19\n"
          ]
        }
      ]
    },
    {
      "cell_type": "code",
      "metadata": {
        "colab": {
          "base_uri": "https://localhost:8080/"
        },
        "id": "52G9D8SDV1Qa",
        "outputId": "7119da8d-3e36-43f2-e5b2-6180010b661d"
      },
      "source": [
        "history"
      ],
      "execution_count": 30,
      "outputs": [
        {
          "output_type": "execute_result",
          "data": {
            "text/plain": [
              "defaultdict(list,\n",
              "            {'val_metric': [0.0005003430593915697,\n",
              "              0.00020306967663799114,\n",
              "              0.0001519755342484269,\n",
              "              9.248505241222447e-05,\n",
              "              7.309649032115998e-05,\n",
              "              7.040512636207408e-05,\n",
              "              4.7060080224725904e-05,\n",
              "              5.156557864847281e-05,\n",
              "              4.4291138147085426e-05,\n",
              "              4.0424167314518554e-05,\n",
              "              2.5165148149590306e-05,\n",
              "              2.2539427213896748e-05,\n",
              "              2.4705646985843936e-05,\n",
              "              1.9824193064486363e-05,\n",
              "              1.9907738730622068e-05,\n",
              "              1.7305887985252994e-05,\n",
              "              2.2276855120327393e-05,\n",
              "              1.6536074347288294e-05,\n",
              "              2.0868513891182667e-05,\n",
              "              1.5885611660946025e-05]})"
            ]
          },
          "metadata": {},
          "execution_count": 30
        }
      ]
    },
    {
      "cell_type": "code",
      "metadata": {
        "id": "zkeRv5a17QMU"
      },
      "source": [
        " torch.save(model.state_dict(), 'checkpoint_dla_basemodel')"
      ],
      "execution_count": 31,
      "outputs": []
    },
    {
      "cell_type": "code",
      "metadata": {
        "colab": {
          "base_uri": "https://localhost:8080/"
        },
        "id": "iwSPVnMI8-iK",
        "outputId": "3f8a2333-b6e7-485e-c767-dc8d1721d79d"
      },
      "source": [
        "from thop import profile  # !pip install thop\n",
        "\n",
        "class Model(nn.Module):\n",
        "    def __init__(self):\n",
        "        super().__init__()\n",
        "        self.model = nn.Conv1d(1, 1, 3, bias=False)\n",
        "    \n",
        "    def forward(self, x):\n",
        "        return self.model(x)\n",
        "        \n",
        "profile(CRNN(config).to(config.device), (torch.randn(128, 40, 101).to(config.device), ))"
      ],
      "execution_count": 32,
      "outputs": [
        {
          "output_type": "stream",
          "name": "stdout",
          "text": [
            "[INFO] Register count_convNd() for <class 'torch.nn.modules.conv.Conv2d'>.\n",
            "\u001b[91m[WARN] Cannot find rule for <class 'torch.nn.modules.flatten.Flatten'>. Treat it as zero Macs and zero Params.\u001b[00m\n",
            "\u001b[91m[WARN] Cannot find rule for <class 'torch.nn.modules.container.Sequential'>. Treat it as zero Macs and zero Params.\u001b[00m\n",
            "[INFO] Register count_gru() for <class 'torch.nn.modules.rnn.GRU'>.\n",
            "[INFO] Register count_linear() for <class 'torch.nn.modules.linear.Linear'>.\n",
            "\u001b[91m[WARN] Cannot find rule for <class 'torch.nn.modules.activation.Tanh'>. Treat it as zero Macs and zero Params.\u001b[00m\n",
            "\u001b[91m[WARN] Cannot find rule for <class '__main__.Attention'>. Treat it as zero Macs and zero Params.\u001b[00m\n",
            "\u001b[91m[WARN] Cannot find rule for <class '__main__.CRNN'>. Treat it as zero Macs and zero Params.\u001b[00m\n"
          ]
        },
        {
          "output_type": "execute_result",
          "data": {
            "text/plain": [
              "(119527424.0, 70443.0)"
            ]
          },
          "metadata": {},
          "execution_count": 32
        }
      ]
    },
    {
      "cell_type": "code",
      "metadata": {
        "colab": {
          "base_uri": "https://localhost:8080/"
        },
        "id": "kHKgLU5_9D9V",
        "outputId": "feb076ae-1c1e-49c5-bb33-2326546ce79c"
      },
      "source": [
        "import tempfile\n",
        "\n",
        "def get_size_in_kilobytes(model, label=\"\"):\n",
        "    # https://pytorch.org/tutorials/recipes/recipes/dynamic_quantization.html#look-at-model-size\n",
        "    with tempfile.TemporaryFile() as f:\n",
        "        torch.save(model.state_dict(), f)\n",
        "        size = f.tell() / 2**10\n",
        "        print(\"model: \",label,' \\t','Size (KB):', size)\n",
        "    return size\n",
        "\n",
        "get_size_in_kilobytes(model)"
      ],
      "execution_count": 33,
      "outputs": [
        {
          "output_type": "stream",
          "name": "stdout",
          "text": [
            "model:    \t Size (KB): 278.5107421875\n"
          ]
        },
        {
          "output_type": "execute_result",
          "data": {
            "text/plain": [
              "278.5107421875"
            ]
          },
          "metadata": {},
          "execution_count": 33
        }
      ]
    },
    {
      "cell_type": "code",
      "metadata": {
        "colab": {
          "base_uri": "https://localhost:8080/"
        },
        "id": "nGciZmbKX91y",
        "outputId": "7a0be36f-e502-4f5b-95ac-fa1075747a5a"
      },
      "source": [
        "from googleapiclient.http import MediaFileUpload\n",
        "from googleapiclient.discovery import build\n",
        "\n",
        "\n",
        "drive_service = build('drive', 'v3')\n",
        "\n",
        "file_metadata = {\n",
        "  'name': 'checkpoint_dla_basemodel'\n",
        "}\n",
        "media = MediaFileUpload('checkpoint_dla_basemodel', \n",
        "                        resumable=True)\n",
        "created = drive_service.files().create(body=file_metadata,\n",
        "                                       media_body=media,\n",
        "                                       fields='id').execute()\n",
        "print('File ID: {}'.format(created.get('id')))"
      ],
      "execution_count": 34,
      "outputs": [
        {
          "output_type": "stream",
          "name": "stdout",
          "text": [
            "File ID: 1TMDjzv-73MDL2lt6Lypv2w-mjOScroFK\n"
          ]
        }
      ]
    },
    {
      "cell_type": "markdown",
      "metadata": {
        "id": "6N2EuXRaakCu"
      },
      "source": [
        "# Dark Knowledge Distilation"
      ]
    },
    {
      "cell_type": "code",
      "metadata": {
        "id": "RcoeZ9eHso-P"
      },
      "source": [
        "# !gdown --id 1CQz3PN_REfKxNS9loZj5yySCdzXeqLmU"
      ],
      "execution_count": 35,
      "outputs": []
    },
    {
      "cell_type": "code",
      "metadata": {
        "id": "ksoAXfpmebh2"
      },
      "source": [
        "# model.load_state_dict(torch.load('checkpoint_dla_basemodel'))\n",
        "# model = model.to(config.device)"
      ],
      "execution_count": 36,
      "outputs": []
    },
    {
      "cell_type": "code",
      "metadata": {
        "id": "93mu0eg1cIcQ"
      },
      "source": [
        "def train_epoch_distillated(model, opt, loader, log_melspec, device, trained_model, alpha=0.5, T=4):\n",
        "    model.train()\n",
        "    trained_model.eval()\n",
        "    for i, (batch, labels) in tqdm(enumerate(loader), total=len(loader)):\n",
        "        batch, labels = batch.to(device), labels.to(device)\n",
        "        batch = log_melspec(batch)\n",
        "\n",
        "        opt.zero_grad()\n",
        "\n",
        "        logits = model(batch)\n",
        "        with torch.no_grad():\n",
        "            teacher_preds = trained_model(batch) / T\n",
        "            teacher_probs = F.softmax(teacher_preds, dim=-1)\n",
        "        probs = F.softmax(logits, dim=-1)\n",
        "        loss = T**2 * alpha * F.cross_entropy(logits / T, teacher_probs)\n",
        "        loss += (1 - alpha) * F.cross_entropy(logits, labels)\n",
        "\n",
        "        loss.backward()\n",
        "        torch.nn.utils.clip_grad_norm_(model.parameters(), 5)\n",
        "\n",
        "        opt.step()\n",
        "\n",
        "        # logging\n",
        "        argmax_probs = torch.argmax(probs, dim=-1)\n",
        "        FA, FR = count_FA_FR(argmax_probs, labels)\n",
        "        acc = torch.sum(argmax_probs == labels) / torch.numel(argmax_probs)\n",
        "\n",
        "    return acc"
      ],
      "execution_count": 37,
      "outputs": []
    },
    {
      "cell_type": "code",
      "metadata": {
        "id": "pjRNOxg4dpFT"
      },
      "source": [
        "history = defaultdict(list)"
      ],
      "execution_count": 38,
      "outputs": []
    },
    {
      "cell_type": "code",
      "metadata": {
        "colab": {
          "base_uri": "https://localhost:8080/"
        },
        "id": "NE0MKWtvkOWQ",
        "outputId": "89fe6ee3-58ac-4b8e-8dd3-076dd1ba7d94"
      },
      "source": [
        "config = TaskConfig(cnn_out_channels=3, hidden_size=16, gru_num_layers=2, kernel_size=(3, 10), num_epochs=110)\n",
        "dark_knowledge_model = CRNN(config).to(config.device)\n",
        "\n",
        "print(dark_knowledge_model)\n",
        "\n",
        "opt = torch.optim.Adam(\n",
        "    dark_knowledge_model.parameters(),\n",
        "    lr=config.learning_rate,\n",
        "    weight_decay=config.weight_decay\n",
        ")"
      ],
      "execution_count": 39,
      "outputs": [
        {
          "output_type": "stream",
          "name": "stdout",
          "text": [
            "CRNN(\n",
            "  (conv): Sequential(\n",
            "    (0): Conv2d(1, 3, kernel_size=(3, 10), stride=(2, 8))\n",
            "    (1): Flatten(start_dim=1, end_dim=2)\n",
            "  )\n",
            "  (gru): GRU(57, 16, num_layers=2, batch_first=True, dropout=0.1)\n",
            "  (attention): Attention(\n",
            "    (energy): Sequential(\n",
            "      (0): Linear(in_features=16, out_features=16, bias=True)\n",
            "      (1): Tanh()\n",
            "      (2): Linear(in_features=16, out_features=1, bias=True)\n",
            "    )\n",
            "  )\n",
            "  (classifier): Linear(in_features=16, out_features=2, bias=True)\n",
            ")\n"
          ]
        }
      ]
    },
    {
      "cell_type": "code",
      "metadata": {
        "colab": {
          "base_uri": "https://localhost:8080/"
        },
        "id": "cR477TdEkwUm",
        "outputId": "2f2b1702-6d0b-43cc-f64f-ffc83680868d"
      },
      "source": [
        "profile(CRNN(TaskConfig()).to(config.device), (torch.randn(128, 40, 101).to(config.device), ))"
      ],
      "execution_count": 40,
      "outputs": [
        {
          "output_type": "stream",
          "name": "stdout",
          "text": [
            "[INFO] Register count_convNd() for <class 'torch.nn.modules.conv.Conv2d'>.\n",
            "\u001b[91m[WARN] Cannot find rule for <class 'torch.nn.modules.flatten.Flatten'>. Treat it as zero Macs and zero Params.\u001b[00m\n",
            "\u001b[91m[WARN] Cannot find rule for <class 'torch.nn.modules.container.Sequential'>. Treat it as zero Macs and zero Params.\u001b[00m\n",
            "[INFO] Register count_gru() for <class 'torch.nn.modules.rnn.GRU'>.\n",
            "[INFO] Register count_linear() for <class 'torch.nn.modules.linear.Linear'>.\n",
            "\u001b[91m[WARN] Cannot find rule for <class 'torch.nn.modules.activation.Tanh'>. Treat it as zero Macs and zero Params.\u001b[00m\n",
            "\u001b[91m[WARN] Cannot find rule for <class '__main__.Attention'>. Treat it as zero Macs and zero Params.\u001b[00m\n",
            "\u001b[91m[WARN] Cannot find rule for <class '__main__.CRNN'>. Treat it as zero Macs and zero Params.\u001b[00m\n"
          ]
        },
        {
          "output_type": "execute_result",
          "data": {
            "text/plain": [
              "(119527424.0, 70443.0)"
            ]
          },
          "metadata": {},
          "execution_count": 40
        }
      ]
    },
    {
      "cell_type": "code",
      "metadata": {
        "colab": {
          "base_uri": "https://localhost:8080/"
        },
        "id": "K5l8BleskwUn",
        "outputId": "7bea7245-2afc-469a-b49e-a24498dc5192"
      },
      "source": [
        "profile(CRNN(config).to(config.device), (torch.randn(128, 40, 101).to(config.device), ))"
      ],
      "execution_count": 41,
      "outputs": [
        {
          "output_type": "stream",
          "name": "stdout",
          "text": [
            "[INFO] Register count_convNd() for <class 'torch.nn.modules.conv.Conv2d'>.\n",
            "\u001b[91m[WARN] Cannot find rule for <class 'torch.nn.modules.flatten.Flatten'>. Treat it as zero Macs and zero Params.\u001b[00m\n",
            "\u001b[91m[WARN] Cannot find rule for <class 'torch.nn.modules.container.Sequential'>. Treat it as zero Macs and zero Params.\u001b[00m\n",
            "[INFO] Register count_gru() for <class 'torch.nn.modules.rnn.GRU'>.\n",
            "[INFO] Register count_linear() for <class 'torch.nn.modules.linear.Linear'>.\n",
            "\u001b[91m[WARN] Cannot find rule for <class 'torch.nn.modules.activation.Tanh'>. Treat it as zero Macs and zero Params.\u001b[00m\n",
            "\u001b[91m[WARN] Cannot find rule for <class '__main__.Attention'>. Treat it as zero Macs and zero Params.\u001b[00m\n",
            "\u001b[91m[WARN] Cannot find rule for <class '__main__.CRNN'>. Treat it as zero Macs and zero Params.\u001b[00m\n"
          ]
        },
        {
          "output_type": "execute_result",
          "data": {
            "text/plain": [
              "(11516416.0, 5648.0)"
            ]
          },
          "metadata": {},
          "execution_count": 41
        }
      ]
    },
    {
      "cell_type": "code",
      "metadata": {
        "colab": {
          "base_uri": "https://localhost:8080/",
          "height": 296
        },
        "id": "Sj6W3vPXx5Pw",
        "scrolled": false,
        "outputId": "2a8f7667-2352-44a9-dfef-ed1e6e979208"
      },
      "source": [
        "# TRAIN\n",
        "\n",
        "for n in range(config.num_epochs):\n",
        "\n",
        "    train_epoch_distillated(dark_knowledge_model, opt, train_loader,\n",
        "                melspec_train, config.device, model)\n",
        "\n",
        "    au_fa_fr = validation(dark_knowledge_model, val_loader,\n",
        "                          melspec_val, config.device)\n",
        "    history['val_metric'].append(au_fa_fr)\n",
        "\n",
        "    clear_output()\n",
        "    plt.plot(history['val_metric'])\n",
        "    plt.ylabel('Metric')\n",
        "    plt.xlabel('Epoch')\n",
        "    plt.grid()\n",
        "    plt.show()\n",
        "\n",
        "    print('END OF EPOCH', n)"
      ],
      "execution_count": 42,
      "outputs": [
        {
          "output_type": "display_data",
          "data": {
            "image/png": "[encoded data removed]",
            "text/plain": [
              "<Figure size 432x288 with 1 Axes>"
            ]
          },
          "metadata": {
            "needs_background": "light"
          }
        },
        {
          "output_type": "stream",
          "name": "stdout",
          "text": [
            "END OF EPOCH 109\n"
          ]
        }
      ]
    },
    {
      "cell_type": "code",
      "metadata": {
        "colab": {
          "base_uri": "https://localhost:8080/"
        },
        "id": "q8LTFNCzx5P4",
        "outputId": "4e93f0be-95e0-4f13-c25c-f113ad42f362"
      },
      "source": [
        "history"
      ],
      "execution_count": 43,
      "outputs": [
        {
          "output_type": "execute_result",
          "data": {
            "text/plain": [
              "defaultdict(list,\n",
              "            {'val_metric': [0.004095939665706936,\n",
              "              0.0015292586620072055,\n",
              "              0.0011744551367978227,\n",
              "              0.0007396417173945507,\n",
              "              0.0005868307264847669,\n",
              "              0.000450719917480752,\n",
              "              0.00039857250294311985,\n",
              "              0.00037056083459733447,\n",
              "              0.00033452281475494046,\n",
              "              0.0003149671613316045,\n",
              "              0.0002813818035450515,\n",
              "              0.0002751278136800359,\n",
              "              0.00026392672687027046,\n",
              "              0.00024697889173988475,\n",
              "              0.00023315208399442573,\n",
              "              0.00021017702580710708,\n",
              "              0.0001928950080121786,\n",
              "              0.0001874794585823106,\n",
              "              0.00019757356531577798,\n",
              "              0.00017678262954314993,\n",
              "              0.00017821484096261915,\n",
              "              0.00018190278536775237,\n",
              "              0.0001652742140329567,\n",
              "              0.00015717326819158394,\n",
              "              0.000156588448528634,\n",
              "              0.00014366870801550547,\n",
              "              0.00015034042621119955,\n",
              "              0.00013750124759041618,\n",
              "              0.00012645830079155044,\n",
              "              0.00013074896750237694,\n",
              "              0.0001236774236187477,\n",
              "              0.00012353718625059135,\n",
              "              0.00011540043512373187,\n",
              "              0.00011059357554713834,\n",
              "              0.00011596735214393845,\n",
              "              0.00010751432099527953,\n",
              "              0.00010809018933685776,\n",
              "              0.00010075905713344973,\n",
              "              9.687716743193004e-05,\n",
              "              9.809454713847888e-05,\n",
              "              8.9790704679348e-05,\n",
              "              9.128855912220956e-05,\n",
              "              9.045608623464307e-05,\n",
              "              8.148686222021712e-05,\n",
              "              8.03231904418984e-05,\n",
              "              7.600865354074739e-05,\n",
              "              7.912371337809293e-05,\n",
              "              7.412290850511292e-05,\n",
              "              7.127042076133673e-05,\n",
              "              7.127042076133673e-05,\n",
              "              6.808971790059886e-05,\n",
              "              6.553560753587876e-05,\n",
              "              6.384679157042131e-05,\n",
              "              6.429435763900545e-05,\n",
              "              6.341712814458055e-05,\n",
              "              5.9317422956349924e-05,\n",
              "              6.113454119480149e-05,\n",
              "              5.878034367404898e-05,\n",
              "              5.545641967136417e-05,\n",
              "              5.6524610688384955e-05,\n",
              "              5.604720688189523e-05,\n",
              "              5.540867929071519e-05,\n",
              "              5.3606479921216443e-05,\n",
              "              5.770021756186594e-05,\n",
              "              5.5229652863281546e-05,\n",
              "              5.3152946305051194e-05,\n",
              "              5.055706310726324e-05,\n",
              "              4.899953318859047e-05,\n",
              "              4.8026822932867626e-05,\n",
              "              4.8808571665994576e-05,\n",
              "              4.471483402534507e-05,\n",
              "              4.852212938210073e-05,\n",
              "              4.604559713593522e-05,\n",
              "              4.818197916997679e-05,\n",
              "              4.4159852100300755e-05,\n",
              "              4.308569353569884e-05,\n",
              "              4.063303147985781e-05,\n",
              "              4.290069956068407e-05,\n",
              "              4.068673940808791e-05,\n",
              "              3.831165547080147e-05,\n",
              "              4.058529109920884e-05,\n",
              "              3.7708933165108166e-05,\n",
              "              4.346164903330951e-05,\n",
              "              4.010191974513798e-05,\n",
              "              4.041819976693744e-05,\n",
              "              3.715395124006385e-05,\n",
              "              3.9182917417645235e-05,\n",
              "              4.098511678714399e-05,\n",
              "              3.923065779829421e-05,\n",
              "              3.721362671587507e-05,\n",
              "              4.0662869217763424e-05,\n",
              "              3.6169305889178765e-05,\n",
              "              3.940968422572786e-05,\n",
              "              3.6927184431981224e-05,\n",
              "              3.744636107153881e-05,\n",
              "              3.621107872224661e-05,\n",
              "              3.869357851599325e-05,\n",
              "              3.7165886335226094e-05,\n",
              "              3.591866889077165e-05,\n",
              "              3.750603654735003e-05,\n",
              "              3.727330219168628e-05,\n",
              "              3.482064013584525e-05,\n",
              "              3.489225070681871e-05,\n",
              "              3.758958221348573e-05,\n",
              "              3.391954045109587e-05,\n",
              "              3.4271625758382046e-05,\n",
              "              3.6795898385196546e-05,\n",
              "              3.2278464866287396e-05,\n",
              "              3.4522262756789165e-05,\n",
              "              3.098350704118398e-05]})"
            ]
          },
          "metadata": {},
          "execution_count": 43
        }
      ]
    },
    {
      "cell_type": "code",
      "metadata": {
        "id": "Cc7gGK4CBUr8"
      },
      "source": [
        " torch.save(dark_knowledge_model.state_dict(), 'checkpoint_distillated')"
      ],
      "execution_count": 44,
      "outputs": []
    },
    {
      "cell_type": "code",
      "metadata": {
        "colab": {
          "base_uri": "https://localhost:8080/"
        },
        "id": "-M8A3RsJBUsE",
        "outputId": "3bef750f-51de-482e-e500-bdc592aa7b73"
      },
      "source": [
        "from googleapiclient.http import MediaFileUpload\n",
        "from googleapiclient.discovery import build\n",
        "\n",
        "\n",
        "drive_service = build('drive', 'v3')\n",
        "\n",
        "file_metadata = {\n",
        "  'name': 'checkpoint_dla_distillated'\n",
        "}\n",
        "media = MediaFileUpload('checkpoint_distillated', \n",
        "                        resumable=True)\n",
        "created = drive_service.files().create(body=file_metadata,\n",
        "                                       media_body=media,\n",
        "                                       fields='id').execute()\n",
        "print('File ID: {}'.format(created.get('id')))"
      ],
      "execution_count": 45,
      "outputs": [
        {
          "output_type": "stream",
          "name": "stdout",
          "text": [
            "File ID: 1pn9bU6AtY-oFDRgOO7l5NfuuVZaA_NfQ\n"
          ]
        }
      ]
    },
    {
      "cell_type": "markdown",
      "metadata": {
        "id": "2K8IIGevSSg5"
      },
      "source": [
        "# Quantization"
      ]
    },
    {
      "cell_type": "markdown",
      "metadata": {
        "id": "hPtn-5tZjbC5"
      },
      "source": [
        "### Creating MelSpecs on CPU for not using nightly releasy with ability to quantize on CUDA: "
      ]
    },
    {
      "cell_type": "code",
      "metadata": {
        "id": "bnc9T-gIgvdB"
      },
      "source": [
        "config = TaskConfig(device=torch.device('cpu'))"
      ],
      "execution_count": 46,
      "outputs": []
    },
    {
      "cell_type": "code",
      "metadata": {
        "id": "97IslIX2jbDB"
      },
      "source": [
        "melspec_train = LogMelspec(is_train=True, config=config)\n",
        "melspec_val = LogMelspec(is_train=False, config=config)"
      ],
      "execution_count": 47,
      "outputs": []
    },
    {
      "cell_type": "markdown",
      "metadata": {
        "id": "hBWhBA3Zkgv7"
      },
      "source": [
        "### Dynamic quantization int8 for GRU + Linear (coz Convs are not supported for dynamic)"
      ]
    },
    {
      "cell_type": "code",
      "metadata": {
        "id": "y-HLoM1YSRhE"
      },
      "source": [
        "model_int8 = torch.quantization.quantize_dynamic(\n",
        "    model.to('cpu'),  # the original model\n",
        "    {nn.GRU, nn.Linear},  # a set of layers to dynamically quantize\n",
        "    dtype=torch.qint8)  # the target dtype for quantized weights"
      ],
      "execution_count": 48,
      "outputs": []
    },
    {
      "cell_type": "code",
      "metadata": {
        "id": "TdwaYeWEjSZE",
        "colab": {
          "base_uri": "https://localhost:8080/"
        },
        "outputId": "7e56b9ae-0363-4219-a35a-7a4c50806aaa"
      },
      "source": [
        "validation(model_int8, val_loader,\n",
        "           melspec_val, config.device)"
      ],
      "execution_count": 49,
      "outputs": [
        {
          "output_type": "stream",
          "name": "stderr",
          "text": [
            "51it [00:09,  5.44it/s]\n"
          ]
        },
        {
          "output_type": "execute_result",
          "data": {
            "text/plain": [
              "1.682251663118214e-05"
            ]
          },
          "metadata": {},
          "execution_count": 49
        }
      ]
    },
    {
      "cell_type": "code",
      "metadata": {
        "colab": {
          "base_uri": "https://localhost:8080/"
        },
        "id": "XOVV03nAdhOh",
        "outputId": "dc800acc-3555-4e9e-fe58-86060f0769e0"
      },
      "source": [
        "print('The size of the model in KB has decreased by {} times'.format(\n",
        "    get_size_in_kilobytes(model, label='base') / get_size_in_kilobytes(model_int8, label='dynamically quantized')))"
      ],
      "execution_count": 50,
      "outputs": [
        {
          "output_type": "stream",
          "name": "stdout",
          "text": [
            "model:  base  \t Size (KB): 279.5517578125\n",
            "model:  dynamically quantized  \t Size (KB): 80.7841796875\n",
            "The size of the model in KB has decreased by 3.4604765301065 times\n"
          ]
        }
      ]
    },
    {
      "cell_type": "code",
      "metadata": {
        "id": "bcHlAX5vBg7D"
      },
      "source": [
        " torch.save(model_int8.state_dict(), 'checkpoint_int8')"
      ],
      "execution_count": 51,
      "outputs": []
    },
    {
      "cell_type": "code",
      "metadata": {
        "colab": {
          "base_uri": "https://localhost:8080/"
        },
        "id": "eVqRMo_CBg7D",
        "outputId": "4c4924c7-b6f0-4ee8-f706-16747bc46d3f"
      },
      "source": [
        "from googleapiclient.http import MediaFileUpload\n",
        "from googleapiclient.discovery import build\n",
        "\n",
        "\n",
        "drive_service = build('drive', 'v3')\n",
        "\n",
        "file_metadata = {\n",
        "  'name': 'checkpoint_dla_int8'\n",
        "}\n",
        "media = MediaFileUpload('checkpoint_int8', \n",
        "                        resumable=True)\n",
        "created = drive_service.files().create(body=file_metadata,\n",
        "                                       media_body=media,\n",
        "                                       fields='id').execute()\n",
        "print('File ID: {}'.format(created.get('id')))"
      ],
      "execution_count": 52,
      "outputs": [
        {
          "output_type": "stream",
          "name": "stdout",
          "text": [
            "File ID: 1S9QI6ir0JKXa1tHKqR-ELNB6itSRtZEQ\n"
          ]
        }
      ]
    },
    {
      "cell_type": "markdown",
      "metadata": {
        "id": "TaC7AF3Gm1Sy"
      },
      "source": [
        "### Dynamic quantization float16 for GRU + Linear (coz Convs are not supported for dynamic)"
      ]
    },
    {
      "cell_type": "code",
      "metadata": {
        "id": "8Hp6DQiom1Sz"
      },
      "source": [
        "model_float16 = torch.quantization.quantize_dynamic(\n",
        "    model.to('cpu'),  # the original model\n",
        "    {nn.GRU, nn.Linear},  # a set of layers to dynamically quantize\n",
        "    dtype=torch.float16)  # the target dtype for quantized weights"
      ],
      "execution_count": 53,
      "outputs": []
    },
    {
      "cell_type": "code",
      "metadata": {
        "colab": {
          "base_uri": "https://localhost:8080/"
        },
        "id": "Lz65JG7Lm1Sz",
        "outputId": "94538b12-741f-4e0b-b54d-1e29d7ee822b"
      },
      "source": [
        "validation(model_float16, val_loader,\n",
        "           melspec_val, config.device)"
      ],
      "execution_count": 54,
      "outputs": [
        {
          "output_type": "stream",
          "name": "stderr",
          "text": [
            "51it [00:09,  5.61it/s]\n"
          ]
        },
        {
          "output_type": "execute_result",
          "data": {
            "text/plain": [
              "1.5891579208527146e-05"
            ]
          },
          "metadata": {},
          "execution_count": 54
        }
      ]
    },
    {
      "cell_type": "code",
      "metadata": {
        "colab": {
          "base_uri": "https://localhost:8080/"
        },
        "id": "wr4cElr_m1Sz",
        "outputId": "3ebb977a-ade0-44f0-dd5a-733d99b030af"
      },
      "source": [
        "print('The size of the model in KB has decreased by {} times'.format(\n",
        "    get_size_in_kilobytes(model, label='base') / get_size_in_kilobytes(model_float16, label='dynamically quantized')))"
      ],
      "execution_count": 55,
      "outputs": [
        {
          "output_type": "stream",
          "name": "stdout",
          "text": [
            "model:  base  \t Size (KB): 279.5517578125\n",
            "model:  dynamically quantized  \t Size (KB): 282.1591796875\n",
            "The size of the model in KB has decreased by 0.9907590393554171 times\n"
          ]
        }
      ]
    },
    {
      "cell_type": "markdown",
      "metadata": {
        "id": "Jfl_mOEQCsdC"
      },
      "source": [
        "# Dynamic quantization int8 for GRU + Linear (coz Convs are not supported for dynamic) after distillation"
      ]
    },
    {
      "cell_type": "code",
      "metadata": {
        "id": "4b9vocjHCsdC"
      },
      "source": [
        "config = TaskConfig(device=torch.device('cpu'))"
      ],
      "execution_count": 56,
      "outputs": []
    },
    {
      "cell_type": "code",
      "metadata": {
        "id": "5umoijeUCsdD"
      },
      "source": [
        "distillated_model_int8 = torch.quantization.quantize_dynamic(\n",
        "    dark_knowledge_model.to('cpu'),  # the original model\n",
        "    {nn.GRU, nn.Linear},  # a set of layers to dynamically quantize\n",
        "    dtype=torch.qint8)  # the target dtype for quantized weights"
      ],
      "execution_count": 57,
      "outputs": []
    },
    {
      "cell_type": "code",
      "metadata": {
        "colab": {
          "base_uri": "https://localhost:8080/"
        },
        "id": "DsCViIJjCsdD",
        "outputId": "85dbc9fb-1bef-4f87-a6b3-a32af8945d4f"
      },
      "source": [
        "validation(distillated_model_int8, val_loader,\n",
        "           melspec_val, config.device)"
      ],
      "execution_count": 58,
      "outputs": [
        {
          "output_type": "stream",
          "name": "stderr",
          "text": [
            "51it [00:08,  5.73it/s]\n"
          ]
        },
        {
          "output_type": "execute_result",
          "data": {
            "text/plain": [
              "3.215314636708384e-05"
            ]
          },
          "metadata": {},
          "execution_count": 58
        }
      ]
    },
    {
      "cell_type": "code",
      "metadata": {
        "id": "lJ6hVQCKBrsM"
      },
      "source": [
        " torch.save(distillated_model_int8.state_dict(), 'checkpoint_distillated_int8')"
      ],
      "execution_count": 59,
      "outputs": []
    },
    {
      "cell_type": "code",
      "metadata": {
        "colab": {
          "base_uri": "https://localhost:8080/"
        },
        "id": "3rtFPaasBrsM",
        "outputId": "7a7d71bf-62bf-4911-88dd-4273dabeab36"
      },
      "source": [
        "from googleapiclient.http import MediaFileUpload\n",
        "from googleapiclient.discovery import build\n",
        "\n",
        "\n",
        "drive_service = build('drive', 'v3')\n",
        "\n",
        "file_metadata = {\n",
        "  'name': 'checkpoint_dla_distillated_int8'\n",
        "}\n",
        "media = MediaFileUpload('checkpoint_distillated_int8', \n",
        "                        resumable=True)\n",
        "created = drive_service.files().create(body=file_metadata,\n",
        "                                       media_body=media,\n",
        "                                       fields='id').execute()\n",
        "print('File ID: {}'.format(created.get('id')))"
      ],
      "execution_count": 60,
      "outputs": [
        {
          "output_type": "stream",
          "name": "stdout",
          "text": [
            "File ID: 1qC6Mytla0-SlLMqqht7LhFjj2llEFiNr\n"
          ]
        }
      ]
    },
    {
      "cell_type": "markdown",
      "metadata": {
        "id": "pYN5x8ayETQF"
      },
      "source": [
        "### Comparison with distillated model"
      ]
    },
    {
      "cell_type": "code",
      "metadata": {
        "colab": {
          "base_uri": "https://localhost:8080/"
        },
        "id": "r81LkqahCsdD",
        "outputId": "33059546-02ec-486f-fc49-823c6794670e"
      },
      "source": [
        "print('The size of the model in KB has decreased by {} times compared to distillated model'.format(\n",
        "    get_size_in_kilobytes(dark_knowledge_model, label='distillated') / get_size_in_kilobytes(distillated_model_int8, label='distillated and dynamically quantized')))"
      ],
      "execution_count": 61,
      "outputs": [
        {
          "output_type": "stream",
          "name": "stdout",
          "text": [
            "model:  distillated  \t Size (KB): 26.4892578125\n",
            "model:  distillated and dynamically quantized  \t Size (KB): 13.5966796875\n",
            "The size of the model in KB has decreased by 1.9482151835093011 times compared to distillated model\n"
          ]
        }
      ]
    },
    {
      "cell_type": "markdown",
      "metadata": {
        "id": "wpab0wDhEZdh"
      },
      "source": [
        "### Comparison with base model"
      ]
    },
    {
      "cell_type": "code",
      "metadata": {
        "colab": {
          "base_uri": "https://localhost:8080/"
        },
        "id": "fCwpV-SDESBx",
        "outputId": "8d55ae64-3f77-4b39-bfe7-edfe298b7b98"
      },
      "source": [
        "print('The size of the model in KB has decreased by {} times compared to base model'.format(\n",
        "    get_size_in_kilobytes(model, label='base') / get_size_in_kilobytes(distillated_model_int8, label='distillated and dynamically quantized')))"
      ],
      "execution_count": 62,
      "outputs": [
        {
          "output_type": "stream",
          "name": "stdout",
          "text": [
            "model:  base  \t Size (KB): 279.5517578125\n",
            "model:  distillated and dynamically quantized  \t Size (KB): 13.5966796875\n",
            "The size of the model in KB has decreased by 20.56029591323709 times compared to base model\n"
          ]
        }
      ]
    },
    {
      "cell_type": "markdown",
      "metadata": {
        "id": "J2PtlePXoMdq"
      },
      "source": [
        "# Dynamic quantization float16 for GRU + Linear (coz Convs are not supported for dynamic) after distillation"
      ]
    },
    {
      "cell_type": "markdown",
      "metadata": {
        "id": "U4LSUoI7pRMZ"
      },
      "source": [
        "I have no clue what's going on here. Honestly, it should takes less memory but seems that some extra quantizatation tools inside model are taking too much memory or extra information about layers. Or maybe bug..."
      ]
    },
    {
      "cell_type": "code",
      "metadata": {
        "id": "gbA1ErrtoMdr"
      },
      "source": [
        "config = TaskConfig(device=torch.device('cpu'))"
      ],
      "execution_count": 63,
      "outputs": []
    },
    {
      "cell_type": "code",
      "metadata": {
        "id": "b1iUrFgMoMdr"
      },
      "source": [
        "distillated_model_float16 = torch.quantization.quantize_dynamic(\n",
        "    dark_knowledge_model.to('cpu'),  # the original model\n",
        "    {nn.GRU, nn.Linear},  # a set of layers to dynamically quantize\n",
        "    dtype=torch.float16)  # the target dtype for quantized weights"
      ],
      "execution_count": 64,
      "outputs": []
    },
    {
      "cell_type": "code",
      "metadata": {
        "colab": {
          "base_uri": "https://localhost:8080/"
        },
        "id": "6DTh3go2oMdr",
        "outputId": "98a523ee-5eda-4975-f226-016a585581df"
      },
      "source": [
        "validation(distillated_model_float16, val_loader,\n",
        "           melspec_val, config.device)"
      ],
      "execution_count": 65,
      "outputs": [
        {
          "output_type": "stream",
          "name": "stderr",
          "text": [
            "51it [00:08,  5.82it/s]\n"
          ]
        },
        {
          "output_type": "execute_result",
          "data": {
            "text/plain": [
              "3.097157194602174e-05"
            ]
          },
          "metadata": {},
          "execution_count": 65
        }
      ]
    },
    {
      "cell_type": "code",
      "metadata": {
        "colab": {
          "base_uri": "https://localhost:8080/"
        },
        "id": "PHbzDamzptYS",
        "outputId": "06b6b2c7-4a78-4756-f3aa-401b2d689626"
      },
      "source": [
        "dark_knowledge_model"
      ],
      "execution_count": 66,
      "outputs": [
        {
          "output_type": "execute_result",
          "data": {
            "text/plain": [
              "CRNN(\n",
              "  (conv): Sequential(\n",
              "    (0): Conv2d(1, 3, kernel_size=(3, 10), stride=(2, 8))\n",
              "    (1): Flatten(start_dim=1, end_dim=2)\n",
              "  )\n",
              "  (gru): GRU(57, 16, num_layers=2, batch_first=True, dropout=0.1)\n",
              "  (attention): Attention(\n",
              "    (energy): Sequential(\n",
              "      (0): Linear(in_features=16, out_features=16, bias=True)\n",
              "      (1): Tanh()\n",
              "      (2): Linear(in_features=16, out_features=1, bias=True)\n",
              "    )\n",
              "  )\n",
              "  (classifier): Linear(in_features=16, out_features=2, bias=True)\n",
              ")"
            ]
          },
          "metadata": {},
          "execution_count": 66
        }
      ]
    },
    {
      "cell_type": "code",
      "metadata": {
        "colab": {
          "base_uri": "https://localhost:8080/"
        },
        "id": "Ns_7AJpNpqIo",
        "outputId": "d7191576-32d9-4bbd-c6c8-44b0be65bb87"
      },
      "source": [
        "distillated_model_float16"
      ],
      "execution_count": 67,
      "outputs": [
        {
          "output_type": "execute_result",
          "data": {
            "text/plain": [
              "CRNN(\n",
              "  (conv): Sequential(\n",
              "    (0): Conv2d(1, 3, kernel_size=(3, 10), stride=(2, 8))\n",
              "    (1): Flatten(start_dim=1, end_dim=2)\n",
              "  )\n",
              "  (gru): DynamicQuantizedGRU(57, 16, num_layers=2, batch_first=True, dropout=0.1)\n",
              "  (attention): Attention(\n",
              "    (energy): Sequential(\n",
              "      (0): DynamicQuantizedLinear(in_features=16, out_features=16, dtype=torch.float16)\n",
              "      (1): Tanh()\n",
              "      (2): DynamicQuantizedLinear(in_features=16, out_features=1, dtype=torch.float16)\n",
              "    )\n",
              "  )\n",
              "  (classifier): DynamicQuantizedLinear(in_features=16, out_features=2, dtype=torch.float16)\n",
              ")"
            ]
          },
          "metadata": {},
          "execution_count": 67
        }
      ]
    },
    {
      "cell_type": "markdown",
      "metadata": {
        "id": "k7KWAebToMds"
      },
      "source": [
        "### Comparison with distillated model"
      ]
    },
    {
      "cell_type": "code",
      "metadata": {
        "colab": {
          "base_uri": "https://localhost:8080/"
        },
        "id": "sY9SpJwvoMds",
        "outputId": "fb2d2117-a36f-4527-ff0d-878052a3cece"
      },
      "source": [
        "print('The size of the model in KB has decreased by {} times compared to distillated model'.format(\n",
        "    get_size_in_kilobytes(dark_knowledge_model, label='distillated') / get_size_in_kilobytes(distillated_model_float16, label='distillated and dynamically quantized')))"
      ],
      "execution_count": 68,
      "outputs": [
        {
          "output_type": "stream",
          "name": "stdout",
          "text": [
            "model:  distillated  \t Size (KB): 26.4892578125\n",
            "model:  distillated and dynamically quantized  \t Size (KB): 29.0966796875\n",
            "The size of the model in KB has decreased by 0.910387648934385 times compared to distillated model\n"
          ]
        }
      ]
    },
    {
      "cell_type": "markdown",
      "metadata": {
        "id": "_H0D3kqT2rqN"
      },
      "source": [
        "# Streaming"
      ]
    },
    {
      "cell_type": "code",
      "metadata": {
        "id": "FQMevExUrnr2"
      },
      "source": [
        "DEFAULT_MAX_WINDOW_LENGTH = 50\n",
        "DEFAULT_STREAMING_STEP_SIZE = 20\n",
        "\n",
        "class CRNNWithStreaming(CRNN):\n",
        "\n",
        "    def __init__(self, config: TaskConfig):\n",
        "        super().__init__(config)\n",
        "\n",
        "        self.max_window_length = DEFAULT_MAX_WINDOW_LENGTH\n",
        "        if hasattr(config, 'max_window_length'):\n",
        "            self.max_window_length = max_window_length\n",
        "\n",
        "        self.streaming_step_size = DEFAULT_STREAMING_STEP_SIZE\n",
        "        if hasattr(config, 'streaming_step_size'):\n",
        "            self.streaming_step_size = streaming_step_size\n",
        "\n",
        "        self.gru_buffer = None\n",
        "    \n",
        "    def forward(self, input):\n",
        "        if self.training:\n",
        "            return super().forward(input)\n",
        "        \n",
        "        frame_pointer = self.max_window_length\n",
        "        hidden = None\n",
        "        outputs = None\n",
        "        while frame_pointer < input.size(-1):\n",
        "            frame = input[:, :, frame_pointer-self.max_window_length:frame_pointer].unsqueeze(dim=1)\n",
        "            conv_output = self.conv(frame).transpose(-1, -2)\n",
        "            gru_output, hidden = self.gru(conv_output, hidden)\n",
        "            if self.gru_buffer is None:\n",
        "                self.gru_buffer = gru_output\n",
        "            else:\n",
        "                self.gru_buffer = torch.cat((self.gru_buffer[:,-1:,:], gru_output), dim=1)\n",
        "            contex_vector = self.attention(gru_output)\n",
        "            output = self.classifier(contex_vector)\n",
        "            if outputs is None:\n",
        "                outputs = output.unsqueeze(0)\n",
        "            else:\n",
        "                outputs = torch.cat((outputs, output.unsqueeze(0)), dim=0)\n",
        "            frame_pointer += self.streaming_step_size\n",
        "            frame_pointer = min(frame_pointer, input.size(-1))\n",
        "        return outputs\n",
        "\n",
        "\n",
        "config = TaskConfig()\n",
        "\n",
        "melspec_train = LogMelspec(is_train=True, config=config)\n",
        "melspec_val = LogMelspec(is_train=False, config=config)\n",
        "\n",
        "model_with_streaming = CRNNWithStreaming(config)\n",
        "model_with_streaming.load_state_dict(torch.load('checkpoint_dla_basemodel'))\n",
        "model_with_streaming = model_with_streaming.to(config.device)"
      ],
      "execution_count": 69,
      "outputs": []
    },
    {
      "cell_type": "code",
      "metadata": {
        "colab": {
          "base_uri": "https://localhost:8080/",
          "height": 279
        },
        "id": "gJVOGax3a92J",
        "outputId": "7b61b58e-dff1-45e1-c4c4-202a2303b6c6"
      },
      "source": [
        "@torch.no_grad()\n",
        "def streaming_plot(model, loader, log_melspec, device):\n",
        "    model.eval()\n",
        "\n",
        "    val_csv = val_set.csv\n",
        "    not_kw_obj = val_csv[val_csv['label'] == 0]['path'].values\n",
        "    not_kw = []\n",
        "    for i in not_kw_obj:\n",
        "        not_kw.append(str(i))\n",
        "        if len(not_kw) == 3:\n",
        "            break\n",
        "    kw = str(val_csv[val_csv['label'] != 0]['path'].values[0])\n",
        "\n",
        "    x = torch.cat([torchaudio.load(path)[0].squeeze() for path in (*not_kw, kw, *not_kw)]).to(device)\n",
        "    x = log_melspec(x).unsqueeze(0)\n",
        "\n",
        "    outputs = model(x)\n",
        "    probs = F.softmax(outputs, dim=-1)\n",
        "\n",
        "    plt.plot(list(range(probs.size(0))), probs[:, 0, 1].cpu())\n",
        "    plt.xlabel('window number')\n",
        "    plt.ylabel('keyword prob')\n",
        "    plt.show()\n",
        "\n",
        "streaming_plot(model_with_streaming, val_loader,\n",
        "           melspec_val, config.device)"
      ],
      "execution_count": 70,
      "outputs": [
        {
          "output_type": "display_data",
          "data": {
            "image/png": "[encoded data removed]",
            "text/plain": [
              "<Figure size 432x288 with 1 Axes>"
            ]
          },
          "metadata": {
            "needs_background": "light"
          }
        }
      ]
    },
    {
      "cell_type": "code",
      "metadata": {
        "id": "vyoJGhmIDFxX"
      },
      "source": [
        ""
      ],
      "execution_count": 70,
      "outputs": []
    }
  ]
}